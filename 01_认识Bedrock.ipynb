{
 "cells": [
  {
   "cell_type": "markdown",
   "id": "331d43e6-031d-4dc3-ba24-eeb453a14055",
   "metadata": {},
   "source": [
    "# 认识Bedrock"
   ]
  },
  {
   "cell_type": "markdown",
   "id": "a0d55a7d-204a-4738-904a-2da5a695fb82",
   "metadata": {},
   "source": [
    "![](images/bedrock_models.png)"
   ]
  },
  {
   "cell_type": "code",
   "execution_count": 1,
   "id": "c055ed95-60af-4a83-b3b1-2f5b53dc8770",
   "metadata": {
    "scrolled": true,
    "tags": []
   },
   "outputs": [],
   "source": [
    "# !pip install -r requirements.txt"
   ]
  },
  {
   "cell_type": "markdown",
   "id": "ab536f45-a505-4341-83d4-a2cf64039b88",
   "metadata": {
    "tags": []
   },
   "source": [
    "### boto3创建 `bedrock` client"
   ]
  },
  {
   "cell_type": "code",
   "execution_count": 3,
   "id": "cdc42da1-a040-4de2-bf1e-ed08ef3ad5bd",
   "metadata": {
    "tags": []
   },
   "outputs": [],
   "source": [
    "import json\n",
    "import boto3\n",
    "import base64\n",
    "\n",
    "# 指定要使用的配置文件名称\n",
    "profile_name = 'default'\n",
    "\n",
    "# 创建 AWS 客户端，并指定配置文件名称\n",
    "session = boto3.Session(profile_name=profile_name)\n",
    "\n",
    "\n",
    "#Create the connection to Bedrock\n",
    "bedrock = session.client(\n",
    "    service_name='bedrock',\n",
    "    region_name='us-west-2', \n",
    ")\n",
    "\n",
    "bedrock_runtime = session.client(\n",
    "    service_name='bedrock-runtime',\n",
    "    region_name='us-west-2', \n",
    "    \n",
    ")"
   ]
  },
  {
   "cell_type": "markdown",
   "id": "69b918e6-78a1-4426-813a-0608892089bb",
   "metadata": {
    "tags": []
   },
   "source": [
    "### 列出可用模型版本"
   ]
  },
  {
   "cell_type": "code",
   "execution_count": 4,
   "id": "8d421313-4275-4ab2-824c-ebd543345574",
   "metadata": {
    "tags": []
   },
   "outputs": [
    {
     "data": {
      "text/plain": [
       "['amazon.titan-tg1-large',\n",
       " 'amazon.titan-embed-g1-text-02',\n",
       " 'amazon.titan-text-lite-v1:0:4k',\n",
       " 'amazon.titan-text-lite-v1',\n",
       " 'amazon.titan-text-express-v1:0:8k',\n",
       " 'amazon.titan-text-express-v1',\n",
       " 'amazon.titan-embed-text-v1:2:8k',\n",
       " 'amazon.titan-embed-text-v1',\n",
       " 'amazon.titan-embed-text-v2:0',\n",
       " 'amazon.titan-embed-image-v1:0',\n",
       " 'amazon.titan-embed-image-v1',\n",
       " 'amazon.titan-image-generator-v1:0',\n",
       " 'amazon.titan-image-generator-v1',\n",
       " 'amazon.titan-image-generator-v2:0',\n",
       " 'stability.stable-diffusion-xl-v1:0',\n",
       " 'stability.stable-diffusion-xl-v1',\n",
       " 'stability.sd3-large-v1:0',\n",
       " 'stability.stable-image-core-v1:0',\n",
       " 'stability.stable-image-ultra-v1:0',\n",
       " 'anthropic.claude-3-5-sonnet-20241022-v2:0',\n",
       " 'anthropic.claude-3-5-haiku-20241022-v1:0',\n",
       " 'anthropic.claude-instant-v1:2:100k',\n",
       " 'anthropic.claude-instant-v1',\n",
       " 'anthropic.claude-v2:0:18k',\n",
       " 'anthropic.claude-v2:0:100k',\n",
       " 'anthropic.claude-v2:1:18k',\n",
       " 'anthropic.claude-v2:1:200k',\n",
       " 'anthropic.claude-v2:1',\n",
       " 'anthropic.claude-v2',\n",
       " 'anthropic.claude-3-sonnet-20240229-v1:0:28k',\n",
       " 'anthropic.claude-3-sonnet-20240229-v1:0:200k',\n",
       " 'anthropic.claude-3-sonnet-20240229-v1:0',\n",
       " 'anthropic.claude-3-haiku-20240307-v1:0:48k',\n",
       " 'anthropic.claude-3-haiku-20240307-v1:0:200k',\n",
       " 'anthropic.claude-3-haiku-20240307-v1:0',\n",
       " 'anthropic.claude-3-opus-20240229-v1:0:12k',\n",
       " 'anthropic.claude-3-opus-20240229-v1:0:28k',\n",
       " 'anthropic.claude-3-opus-20240229-v1:0:200k',\n",
       " 'anthropic.claude-3-opus-20240229-v1:0',\n",
       " 'anthropic.claude-3-5-sonnet-20240620-v1:0:18k',\n",
       " 'anthropic.claude-3-5-sonnet-20240620-v1:0:51k',\n",
       " 'anthropic.claude-3-5-sonnet-20240620-v1:0:200k',\n",
       " 'anthropic.claude-3-5-sonnet-20240620-v1:0',\n",
       " 'cohere.command-text-v14:7:4k',\n",
       " 'cohere.command-text-v14',\n",
       " 'cohere.command-r-v1:0',\n",
       " 'cohere.command-r-plus-v1:0',\n",
       " 'cohere.command-light-text-v14:7:4k',\n",
       " 'cohere.command-light-text-v14',\n",
       " 'cohere.embed-english-v3:0:512',\n",
       " 'cohere.embed-english-v3',\n",
       " 'cohere.embed-multilingual-v3:0:512',\n",
       " 'cohere.embed-multilingual-v3',\n",
       " 'meta.llama3-8b-instruct-v1:0',\n",
       " 'meta.llama3-70b-instruct-v1:0',\n",
       " 'meta.llama3-1-8b-instruct-v1:0:128k',\n",
       " 'meta.llama3-1-8b-instruct-v1:0',\n",
       " 'meta.llama3-1-70b-instruct-v1:0:128k',\n",
       " 'meta.llama3-1-70b-instruct-v1:0',\n",
       " 'meta.llama3-1-405b-instruct-v1:0',\n",
       " 'meta.llama3-2-11b-instruct-v1:0',\n",
       " 'meta.llama3-2-90b-instruct-v1:0',\n",
       " 'meta.llama3-2-1b-instruct-v1:0',\n",
       " 'meta.llama3-2-3b-instruct-v1:0',\n",
       " 'mistral.mistral-7b-instruct-v0:2',\n",
       " 'mistral.mixtral-8x7b-instruct-v0:1',\n",
       " 'mistral.mistral-large-2402-v1:0',\n",
       " 'mistral.mistral-large-2407-v1:0']"
      ]
     },
     "execution_count": 4,
     "metadata": {},
     "output_type": "execute_result"
    }
   ],
   "source": [
    "# List all foundation models\n",
    "all_llms = [ model['modelId'] for model in bedrock.list_foundation_models()['modelSummaries']]\n",
    "all_llms"
   ]
  },
  {
   "cell_type": "markdown",
   "id": "dfac6718-0a38-40c1-a31d-0bc6d8301e22",
   "metadata": {
    "tags": []
   },
   "source": [
    "### `Anthropic (Claude v3 (Opus))`"
   ]
  },
  {
   "cell_type": "code",
   "execution_count": null,
   "id": "0c707a91-fa52-4d83-af02-e169b20dcf7f",
   "metadata": {},
   "outputs": [],
   "source": [
    "# Claude v3 (Opus)有强大的逻辑推理与解题能力"
   ]
  },
  {
   "cell_type": "code",
   "execution_count": 5,
   "id": "d357de4b-8c0d-4317-b14e-b099adbe722c",
   "metadata": {
    "tags": []
   },
   "outputs": [],
   "source": [
    "prompt_data = \"\"\"小圆的半径是3cm,大圆的半径是5cm,大圆与小圆的面积比是()。\n",
    "A.3:5\n",
    "B.9:25\n",
    "C.25:9\n",
    "D.5:3\"\"\"\n",
    "\n",
    "body = {\n",
    "            \"anthropic_version\": \"bedrock-2023-05-31\",\n",
    "            \"max_tokens\": 1024,\n",
    "            \"messages\": [\n",
    "                 {\n",
    "                    \"role\": \"user\",\n",
    "                    \"content\": [\n",
    "                        {\n",
    "                            \"type\": \"text\",\n",
    "                            \"text\": prompt_data\n",
    "                        }\n",
    "                    ]\n",
    "                }\n",
    "            ],\n",
    "        }\n",
    "\n",
    "body = json.dumps(body) # Encode body as JSON string\n",
    "\n",
    "model_id = \"anthropic.claude-3-sonnet-20240229-v1:0\"\n",
    "accept = 'application/json'\n",
    "contentType = 'application/json'"
   ]
  },
  {
   "cell_type": "code",
   "execution_count": 6,
   "id": "3c204dee-e262-4c40-becf-8af9255f6145",
   "metadata": {
    "tags": []
   },
   "outputs": [],
   "source": [
    "response = bedrock_runtime.invoke_model(body=body,\n",
    "                                        modelId=model_id, \n",
    "                                        accept=accept, \n",
    "                                        contentType=contentType)"
   ]
  },
  {
   "cell_type": "code",
   "execution_count": 7,
   "id": "1d08df1f-3240-41db-9546-58b15585da57",
   "metadata": {},
   "outputs": [
    {
     "name": "stdout",
     "output_type": "stream",
     "text": [
      "要求解大圆与小圆的面积比,我们需要计算出大圆和小圆的面积,然后求比值。\n",
      "\n",
      "已知:\n",
      "小圆半径r1 = 3cm\n",
      "大圆半径r2 = 5cm\n",
      "\n",
      "圆的面积公式为:\n",
      "A = πr^2\n",
      "\n",
      "那么:\n",
      "小圆面积A1 = π * (3cm)^2 = 9π (cm^2)\n",
      "大圆面积A2 = π * (5cm)^2 = 25π (cm^2)\n",
      "\n",
      "大圆与小圆的面积比 = A2 / A1 = (25π) / (9π) = 25/9\n",
      "\n",
      "因此,正确答案是C.25:9\n"
     ]
    }
   ],
   "source": [
    "response_body = json.loads(response.get(\"body\").read())\n",
    "for output in response_body.get(\"content\", []):\n",
    "    print(output[\"text\"])"
   ]
  },
  {
   "cell_type": "markdown",
   "id": "4f983c62-5db4-4939-99cd-01ed5cf50ece",
   "metadata": {
    "tags": []
   },
   "source": [
    "### With `Mistral (mixtral-8x7b)`"
   ]
  },
  {
   "cell_type": "code",
   "execution_count": null,
   "id": "35cf22e1-3b39-405d-808c-0ff05a2ebe84",
   "metadata": {},
   "outputs": [],
   "source": [
    "# Mistral (mixtral-8x7b) 是社区模型中performance突出的模型，这里我们使用mixtral-8x7b"
   ]
  },
  {
   "cell_type": "code",
   "execution_count": 9,
   "id": "fc9fd10c-b83f-45c4-9e1a-9b55e1736354",
   "metadata": {
    "tags": []
   },
   "outputs": [
    {
     "name": "stdout",
     "output_type": "stream",
     "text": [
      "很高兴您有意深入学习德语,以下是一份德语B1级别的学习大纲供您参考:\n",
      "\n",
      "一、听力理解\n",
      "- 能够理解常见话题的主要内容,如工作、学习、休闲等\n",
      "- 能够理解简单说明、广播、公告等\n",
      "- 能够大致了解德语电影、电视剧的主要内容\n",
      "\n",
      "二、阅读理解\n",
      "- 能够阅读并理解实用的短文、说明、简单的报纸文章等\n",
      "- 能够阅读并理解常见话题的非小说文学作品,如简单小说、故事等\n",
      "- 能够大致了解常见话题的书面说明、手册等\n",
      "\n",
      "三、口语表达\n",
      "- 能够用德语进行日常生活的基本交流\n",
      "- 能够用德语介绍自己的经历、计划、理想等\n",
      "- 能够比较流利地描述事物,解释观点并举例说明\n",
      "\n",
      "四、书面表达\n",
      "- 能够书写常见话题的简单短文、信件等\n",
      "- 能够以连贯的段落书写个人经历、感受、梦想等\n",
      "- 能够以基本的语法结构和连接词组织文章\n",
      "\n",
      "五、语法知识\n",
      "- 完整掌握德语名词、代词、形容词等词类的格变位\n",
      "- 掌握常用的时态和语气,如现在时、完成时等\n",
      "- 掌握常见的从句类型,比如定语从句、状语从句等\n",
      "\n",
      "六、词汇量\n",
      "- 积累约2500到3000个常用生活词汇\n",
      "- 掌握约800到1000个常见词根和词缀\n",
      "- 能够理解并运用常见的固定搭配和习语\n",
      "\n",
      "以上是德语B1级别的一个基本框架,具体的学习内容和进度可根据个人情况做适当的调整。希望这份大纲能够给您带来一些启发和帮助。\n"
     ]
    }
   ],
   "source": [
    "prompt_data = \"\"\"写一个德语B1的学习大纲\"\"\"\n",
    "\n",
    "body = {\n",
    "            \"anthropic_version\": \"bedrock-2023-05-31\",\n",
    "            \"max_tokens\": 1024,\n",
    "            \"messages\": [\n",
    "                 {\n",
    "                    \"role\": \"user\",\n",
    "                    \"content\": [\n",
    "                        {\n",
    "                            \"type\": \"text\",\n",
    "                            \"text\": prompt_data\n",
    "                        }\n",
    "                    ]\n",
    "                }\n",
    "            ],\n",
    "        }\n",
    "\n",
    "body = json.dumps(body) # Encode body as JSON string\n",
    "\n",
    "model_id = \"anthropic.claude-3-sonnet-20240229-v1:0\"\n",
    "accept = 'application/json'\n",
    "contentType = 'application/json'\n",
    "\n",
    "response = bedrock_runtime.invoke_model(body=body.encode('utf-8'), # Encode to bytes\n",
    "                                        modelId=model_id, \n",
    "                                        accept=accept, \n",
    "                                        contentType=contentType)\n",
    "\n",
    "response_body = json.loads(response.get('body').read().decode('utf-8'))\n",
    "\n",
    "for output in response_body.get(\"content\", []):\n",
    "    print(output[\"text\"])\n"
   ]
  },
  {
   "cell_type": "code",
   "execution_count": 10,
   "id": "e1e49eef-0d1b-43c2-a6a6-5a8aca398db0",
   "metadata": {
    "tags": []
   },
   "outputs": [
    {
     "name": "stdout",
     "output_type": "stream",
     "text": [
      "很高兴您有意深入学习德语,以下是一份德语B1级别的学习大纲供您参考:\n",
      "\n",
      "一、听力理解\n",
      "- 能够理解常见话题的主要内容,如工作、学习、休闲等\n",
      "- 能够理解简单说明、广播、公告等\n",
      "- 能够大致了解德语电影、电视剧的主要内容\n",
      "\n",
      "二、阅读理解\n",
      "- 能够阅读并理解实用的短文、说明、简单的报纸文章等\n",
      "- 能够阅读并理解常见话题的非小说文学作品,如简单小说、故事等\n",
      "- 能够大致了解常见话题的书面说明、手册等\n",
      "\n",
      "三、口语表达\n",
      "- 能够用德语进行日常生活的基本交流\n",
      "- 能够用德语介绍自己的经历、计划、理想等\n",
      "- 能够比较流利地描述事物,解释观点并举例说明\n",
      "\n",
      "四、书面表达\n",
      "- 能够书写常见话题的简单短文、信件等\n",
      "- 能够以连贯的段落书写个人经历、感受、梦想等\n",
      "- 能够以基本的语法结构和连接词组织文章\n",
      "\n",
      "五、语法知识\n",
      "- 完整掌握德语名词、代词、形容词等词类的格变位\n",
      "- 掌握常用的时态和语气,如现在时、完成时等\n",
      "- 掌握常见的从句类型,比如定语从句、状语从句等\n",
      "\n",
      "六、词汇量\n",
      "- 积累约2500到3000个常用生活词汇\n",
      "- 掌握约800到1000个常见词根和词缀\n",
      "- 能够理解并运用常见的固定搭配和习语\n",
      "\n",
      "以上是德语B1级别的一个基本框架,具体的学习内容和进度可根据个人情况做适当的调整。希望这份大纲能够给您带来一些启发和帮助。\n"
     ]
    }
   ],
   "source": [
    "for output in response_body.get(\"content\", []):\n",
    "    print(output[\"text\"])"
   ]
  },
  {
   "cell_type": "markdown",
   "id": "5656ce38-e3dd-492f-b035-8a708cbe34b3",
   "metadata": {
    "tags": []
   },
   "source": [
    "### 多模态图片输入 `Anthropic Claude v3 Haiku`"
   ]
  },
  {
   "cell_type": "code",
   "execution_count": 12,
   "id": "4b9a286c-15fe-4d46-86ab-3d7b63ee29b9",
   "metadata": {},
   "outputs": [
    {
     "name": "stdout",
     "output_type": "stream",
     "text": [
      "/home/ec2-user/SageMaker/bedrock_ci_north\n"
     ]
    }
   ],
   "source": [
    "!pwd"
   ]
  },
  {
   "cell_type": "code",
   "execution_count": 14,
   "id": "79dcda90-954d-4c0c-92a2-cb2479f0adb1",
   "metadata": {
    "tags": []
   },
   "outputs": [],
   "source": [
    "with open(\"images/math.png\", \"rb\") as image_file:\n",
    "    encoded_string = base64.b64encode(image_file.read())\n",
    "    base64_string = encoded_string.decode('utf-8')\n",
    "\n",
    "payload = {\n",
    "    \"modelId\": \"anthropic.claude-3-haiku-20240307-v1:0\",\n",
    "    \"contentType\": \"application/json\",\n",
    "    \"accept\": \"application/json\",\n",
    "    \"body\": {\n",
    "        \"anthropic_version\": \"bedrock-2023-05-31\",\n",
    "        \"max_tokens\": 1000,\n",
    "        \"messages\": [\n",
    "            {\n",
    "                \"role\": \"user\",\n",
    "                \"content\": [\n",
    "                    {\n",
    "                        \"type\": \"image\",\n",
    "                        \"source\": {\n",
    "                            \"type\": \"base64\",\n",
    "                            \"media_type\": \"image/png\",\n",
    "                            \"data\": base64_string\n",
    "                        }\n",
    "                    },\n",
    "                    {\n",
    "                        \"type\": \"text\",\n",
    "                        \"text\": \"As shown in the figure, in the rectangle quadrilateral ABCD, if E is a point on the edge AB, DAE folded along the crease DE to DA'E, Please independently assess the correctness of the following three statements and provide a complete analysis: \\n1. The trajectory of the projection of point A' is F, AF is perpendicular to DE;\\n2. AF intersects DE at O, When E varies, the trajectory of O is a circle with AD as the diameter;\\n3. The trajectory of point A' is a circle with O as the center and AO as the radius;\"\n",
    "                    }\n",
    "                ]\n",
    "            }\n",
    "        ]\n",
    "    }\n",
    "}\n",
    "\n",
    "# Convert the payload to bytes\n",
    "body_bytes = json.dumps(payload['body']).encode('utf-8')\n",
    "\n",
    "# Invoke the model\n",
    "model_id = \"anthropic.claude-3-sonnet-20240229-v1:0\"\n",
    "accept = 'application/json'\n",
    "contentType = 'application/json'\n",
    "\n",
    "response = bedrock_runtime.invoke_model(body=body_bytes,\n",
    "                                        modelId=model_id, \n",
    "                                        accept=accept, \n",
    "                                        contentType=contentType)\n"
   ]
  },
  {
   "cell_type": "code",
   "execution_count": 15,
   "id": "ac3482f6-bfa5-4006-867e-e5a35a089e8d",
   "metadata": {
    "tags": []
   },
   "outputs": [
    {
     "name": "stdout",
     "output_type": "stream",
     "text": [
      "Let me assess the correctness of each statement and provide a complete analysis:\n",
      "\n",
      "1. The trajectory of the projection of point A' is F, AF is perpendicular to DE.\n",
      "This statement is correct. When the fold occurs along the crease DE, point A' moves along a straight line that is perpendicular to the crease DE. This straight line is the projection of point A' onto the line DE, and the point where this projection intersects DE is denoted as F. Therefore, the trajectory of the projection of point A' is the point F, and AF is indeed perpendicular to DE.\n",
      "\n",
      "2. AF intersects DE at O, When E varies, the trajectory of O is a circle with AD as the diameter.\n",
      "This statement is also correct. As E moves along the line segment AB, the point of intersection O between AF and DE also moves. However, the locus of points O forms a circle with AD as its diameter. This can be proved using the properties of similar triangles. As E moves, the triangles ADE and A'DE remain similar, and the ratio of the sides AD/A'D remains constant. This constant ratio ensures that the locus of points O forms a circle with AD as the diameter.\n",
      "\n",
      "3. The trajectory of point A' is a circle with O as the center and AO as the radius.\n",
      "This statement is correct as well. When the fold occurs along the crease DE, point A' moves in a circular trajectory with O as the center and AO as the radius. This can be demonstrated using the properties of similar triangles once again. As E moves along AB, the triangles ADE and A'DE remain similar, and the ratio of the sides AD/A'D remains constant. This constant ratio ensures that the trajectory of point A' is a circle with O as the center and AO as the radius.\n",
      "\n",
      "In summary, all three statements are correct and can be justified using the properties of similar triangles and the geometry of the fold along the crease DE.\n"
     ]
    }
   ],
   "source": [
    "response_body = json.loads(response.get('body').read().decode('utf-8'))\n",
    "print(response_body.get('content')[0].get('text'))"
   ]
  },
  {
   "cell_type": "code",
   "execution_count": null,
   "id": "957114e3-e2a7-4e9a-8d10-6c472da868c6",
   "metadata": {},
   "outputs": [],
   "source": []
  }
 ],
 "metadata": {
  "kernelspec": {
   "display_name": "conda_python3",
   "language": "python",
   "name": "conda_python3"
  },
  "language_info": {
   "codemirror_mode": {
    "name": "ipython",
    "version": 3
   },
   "file_extension": ".py",
   "mimetype": "text/x-python",
   "name": "python",
   "nbconvert_exporter": "python",
   "pygments_lexer": "ipython3",
   "version": "3.10.15"
  }
 },
 "nbformat": 4,
 "nbformat_minor": 5
}
